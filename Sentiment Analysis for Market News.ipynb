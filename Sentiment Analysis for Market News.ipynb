{
 "cells": [
  {
   "cell_type": "markdown",
   "id": "1325c929",
   "metadata": {},
   "source": [
    "# Sentiment Analysis of Market News"
   ]
  },
  {
   "cell_type": "markdown",
   "id": "ac6b1b68",
   "metadata": {},
   "source": [
    "This project aims to analyse the news realated to a perticular stock and give out a general sentiment towards said stock. "
   ]
  },
  {
   "cell_type": "markdown",
   "id": "de621096",
   "metadata": {},
   "source": [
    "## Getting Libraries"
   ]
  },
  {
   "cell_type": "code",
   "execution_count": 277,
   "id": "a735b242",
   "metadata": {},
   "outputs": [],
   "source": [
    "import pandas as pd\n",
    "import matplotlib\n",
    "import numpy as np\n",
    "import nltk\n",
    "from pprint import pprint\n",
    "from nltk.tokenize import word_tokenize\n",
    "import spacy\n",
    "import re\n",
    "from nltk.sentiment import SentimentIntensityAnalyzer\n",
    "#nltk.download()\n",
    "import requests\n",
    "from newscatcherapi import NewsCatcherApiClient\n",
    "from bs4 import BeautifulSoup"
   ]
  },
  {
   "cell_type": "markdown",
   "id": "c561de31",
   "metadata": {},
   "source": [
    "## Getting User input and validating the input"
   ]
  },
  {
   "cell_type": "code",
   "execution_count": 279,
   "id": "e7e4f9c6",
   "metadata": {},
   "outputs": [
    {
     "name": "stdout",
     "output_type": "stream",
     "text": [
      "Enter a ticker for stock goog\n"
     ]
    }
   ],
   "source": [
    "ticker=input(\"Enter a ticker for stock \")"
   ]
  },
  {
   "cell_type": "code",
   "execution_count": 280,
   "id": "e0898a33",
   "metadata": {},
   "outputs": [],
   "source": [
    "ticker=ticker.lower()"
   ]
  },
  {
   "cell_type": "code",
   "execution_count": 102,
   "id": "6522ae72",
   "metadata": {},
   "outputs": [],
   "source": [
    "#get stock and tickers for said stock\n",
    "\n",
    "stock_name=[\"google\",\"apple\",\"microsoft\"]\n",
    "stock_ticker=[\"GOOG\",\"AAPL\",\"MSFT\"]\n"
   ]
  },
  {
   "cell_type": "markdown",
   "id": "124af455",
   "metadata": {},
   "source": [
    "## Getting information from News API"
   ]
  },
  {
   "cell_type": "code",
   "execution_count": 283,
   "id": "aeeeebd1",
   "metadata": {},
   "outputs": [],
   "source": [
    "#using a request call to get news\n",
    "url = ('https://newsapi.org/v2/everything?q='+ticker+'&apiKey=74cb9f5e7dc24fa2bfbf0f6056f72075')\n",
    "\n",
    "\n",
    "response = requests.get(url)\n",
    "\n",
    "#getting relavent information from JSON object\n",
    "news=response.json()[\"articles\"]\n",
    "news_url=[]\n",
    "\n",
    "##Getting the headlines from diffrent sources\n",
    "for i in range(len(news)):\n",
    "    news_url.append(news[i]['title'])\n",
    "    \n"
   ]
  },
  {
   "cell_type": "code",
   "execution_count": null,
   "id": "f8056151",
   "metadata": {},
   "outputs": [],
   "source": []
  },
  {
   "cell_type": "markdown",
   "id": "f1c90396",
   "metadata": {},
   "source": [
    "Testing a different API"
   ]
  },
  {
   "cell_type": "code",
   "execution_count": 109,
   "id": "ca3f45cb",
   "metadata": {},
   "outputs": [],
   "source": [
    "newscatcherapi = NewsCatcherApiClient(x_api_key='KZYb52V3CtGrq9Yh6479s9DMFb5RZYlwZD6uqiZnCt0')"
   ]
  },
  {
   "cell_type": "code",
   "execution_count": 284,
   "id": "83f16906",
   "metadata": {},
   "outputs": [],
   "source": [
    "all_articles = newscatcherapi.get_search(q=ticker,\n",
    "                                         lang='en',\n",
    "                                         countries='CA',\n",
    "                                         page_size=100)   "
   ]
  },
  {
   "cell_type": "code",
   "execution_count": 286,
   "id": "ac740a78",
   "metadata": {},
   "outputs": [],
   "source": [
    "#getting relavent information from JSON object\n",
    "news_stock=all_articles['articles']\n",
    "\n",
    "stock_headline=[]\n",
    "summary_stock=[]"
   ]
  },
  {
   "cell_type": "code",
   "execution_count": 287,
   "id": "74199820",
   "metadata": {},
   "outputs": [],
   "source": [
    "#getting the summary for the news related to the stock\n",
    "for i in range(len(news_stock)):\n",
    "    summary_stock.append(news_stock[i]['summary'])\n",
    "    "
   ]
  },
  {
   "cell_type": "code",
   "execution_count": 288,
   "id": "7aecce2c",
   "metadata": {},
   "outputs": [],
   "source": [
    "#getting the headlines for the news related to the stock\n",
    "for i in range(len(news_stock)):\n",
    "    stock_headline.append(news_stock[i]['title'])"
   ]
  },
  {
   "cell_type": "code",
   "execution_count": 289,
   "id": "d9ad2447",
   "metadata": {},
   "outputs": [
    {
     "data": {
      "text/plain": [
       "['Teachers Retirement System of The State of Kentucky Takes $95.99 Million Position in Alphabet Inc. (NASDAQ:GOOG)',\n",
       " 'AWM Capital LLC Has $815,000 Stake in Alphabet Inc. (NASDAQ:GOOG)',\n",
       " 'Ambassador Advisors LLC Purchases 3,792 Shares of Alphabet Inc. (NASDAQ:GOOG)',\n",
       " 'Industrial Alliance Investment Management Inc. Buys 267,185 Shares of Alphabet Inc. (NASDAQ:GOOG)',\n",
       " 'Eagle Bay Advisors LLC Raises Stake in Alphabet Inc. (NASDAQ:GOOG)',\n",
       " 'Legend Financial Advisors Inc. Makes New Investment in Alphabet Inc. (NASDAQ:GOOG)',\n",
       " 'Spotlight Asset Group Inc. Buys Shares of 5,460 Alphabet Inc. (NASDAQ:GOOG)',\n",
       " 'National Pension Service Boosts Stock Holdings in Alphabet Inc. (NASDAQ:GOOG)',\n",
       " 'WealthPlan Investment Management LLC Acquires New Holdings in Alphabet Inc. (NASDAQ:GOOG)',\n",
       " 'Continental Investors Services Inc. Makes New $10.86 Million Investment in Alphabet Inc. (NASDAQ:GOOG)',\n",
       " 'Power Corp of Canada Grows Stake in Alphabet Inc. (NASDAQ:GOOG)',\n",
       " 'Gould Capital LLC Purchases 301 Shares of Alphabet Inc. (NASDAQ:GOOG)',\n",
       " 'TPB Wealth Advisors Purchases 2,023 Shares of Alphabet Inc. (NASDAQ:GOOG)',\n",
       " 'EP Wealth Advisors LLC Buys 138,783 Shares of Alphabet Inc. (NASDAQ:GOOG)',\n",
       " 'The Batman Family is Finally Repairing one of Their Most Important Relationships',\n",
       " 'A Surprising Member of the Batman Family Just Got Powers in the Strangest Way Possible',\n",
       " 'Insider Selling: Alphabet Inc. (NASDAQ:GOOG) Director Sells 37,500 Shares of Stock',\n",
       " 'Alphabet Inc. (NASDAQ:GOOG) Stock Position Lifted by Fayez Sarofim & Co',\n",
       " 'American Trust Grows Stock Position in Alphabet Inc. (NASDAQ:GOOG)',\n",
       " 'Alphabet Inc. (NASDAQ:GOOG) Holdings Raised by D L Carlson Investment Group Inc.',\n",
       " 'Alphabet Inc. (NASDAQ:GOOG) Shares Bought by Horizon Wealth Management LLC']"
      ]
     },
     "execution_count": 289,
     "metadata": {},
     "output_type": "execute_result"
    }
   ],
   "source": [
    "stock_headline"
   ]
  },
  {
   "cell_type": "markdown",
   "id": "6e21dacd",
   "metadata": {},
   "source": [
    "## Analysing the News (Sentiment Analysis)"
   ]
  },
  {
   "cell_type": "markdown",
   "id": "0613002d",
   "metadata": {},
   "source": [
    "Pre-Processing"
   ]
  },
  {
   "cell_type": "markdown",
   "id": "f7719878",
   "metadata": {},
   "source": [
    "stock_headline (has the headlines from news catcher)\n",
    "summary_stock (has the summary from news catcher)\n",
    "news_url (has the headlines from news api)"
   ]
  },
  {
   "cell_type": "markdown",
   "id": "6ca168cd",
   "metadata": {},
   "source": [
    "The corpus had characters, extra whitespaces, 's, numbers, stopwords"
   ]
  },
  {
   "cell_type": "code",
   "execution_count": 291,
   "id": "73280ce5",
   "metadata": {},
   "outputs": [],
   "source": [
    "def remove_punctuation_func(text):\n",
    "    '''\n",
    "    Removes all punctuation from a string, if present\n",
    "    \n",
    "    Args:\n",
    "        text (str): String to which the function is to be applied, string\n",
    "    \n",
    "    Returns:\n",
    "        Clean string without punctuations\n",
    "    '''\n",
    "    return re.sub(r'[^a-zA-Z0-9]', ' ', text)"
   ]
  },
  {
   "cell_type": "code",
   "execution_count": 292,
   "id": "d71d7589",
   "metadata": {},
   "outputs": [],
   "source": [
    "def remove_extra_whitespaces_func(text):\n",
    "    '''\n",
    "    Removes extra whitespaces from a string, if present\n",
    "    \n",
    "    Args:\n",
    "        text (str): String to which the function is to be applied, string\n",
    "    \n",
    "    Returns:\n",
    "        Clean string without extra whitespaces\n",
    "    ''' \n",
    "    return re.sub(r'^\\s*|\\s\\s*', ' ', text).strip()"
   ]
  },
  {
   "cell_type": "code",
   "execution_count": 293,
   "id": "23bba5a5",
   "metadata": {},
   "outputs": [],
   "source": [
    "def remove_irr_char_func(text):\n",
    "    '''\n",
    "    Removes all irrelevant characters (numbers and punctuation) from a string, if present\n",
    "    \n",
    "    Args:\n",
    "        text (str): String to which the function is to be applied, string\n",
    "    \n",
    "    Returns:\n",
    "        Clean string without irrelevant characters\n",
    "    '''\n",
    "    return re.sub(r'[^a-zA-Z]', ' ', text)"
   ]
  },
  {
   "cell_type": "code",
   "execution_count": 213,
   "id": "2776d407",
   "metadata": {},
   "outputs": [],
   "source": [
    "##pre-processing \n",
    "##testing (not used)\n",
    "tokenized_summary_raw = [word_tokenize(i) for i in summary_stock]\n",
    "tokenized_summary_raw = [word_tokenize(i) for i in news_url]\n",
    "tokenized_summary= [item for sublist in tokenized_summary_raw for item in sublist]"
   ]
  },
  {
   "cell_type": "code",
   "execution_count": 236,
   "id": "90865e5b",
   "metadata": {},
   "outputs": [],
   "source": [
    "stopwords = nltk.corpus.stopwords.words(\"english\")"
   ]
  },
  {
   "cell_type": "code",
   "execution_count": 237,
   "id": "a187a84a",
   "metadata": {},
   "outputs": [],
   "source": [
    "#words = [w for w in tokenized_summary if w.lower() not in stopwords]"
   ]
  },
  {
   "cell_type": "code",
   "execution_count": 244,
   "id": "c01ba391",
   "metadata": {},
   "outputs": [],
   "source": [
    "word=\" \".join(tokenized_summary)"
   ]
  },
  {
   "cell_type": "code",
   "execution_count": 239,
   "id": "0e3abe3d",
   "metadata": {},
   "outputs": [],
   "source": [
    "word=\" \".join(words)"
   ]
  },
  {
   "cell_type": "code",
   "execution_count": 245,
   "id": "6a6c2a50",
   "metadata": {},
   "outputs": [],
   "source": [
    "word=remove_irr_char_func(word)"
   ]
  },
  {
   "cell_type": "code",
   "execution_count": 246,
   "id": "7bffaa08",
   "metadata": {},
   "outputs": [],
   "source": [
    "word=remove_punctuation_func(word)"
   ]
  },
  {
   "cell_type": "code",
   "execution_count": 247,
   "id": "fc457132",
   "metadata": {},
   "outputs": [],
   "source": [
    "word=remove_extra_whitespaces_func(word)"
   ]
  },
  {
   "cell_type": "markdown",
   "id": "4f933358",
   "metadata": {},
   "source": [
    "Sentiment Analysis of Headlines"
   ]
  },
  {
   "cell_type": "code",
   "execution_count": 258,
   "id": "b5a03699",
   "metadata": {},
   "outputs": [
    {
     "data": {
      "text/plain": [
       "{'neg': 0.076, 'neu': 0.783, 'pos': 0.141, 'compound': 0.9982}"
      ]
     },
     "execution_count": 258,
     "metadata": {},
     "output_type": "execute_result"
    }
   ],
   "source": [
    "#initiating Pre-Trained Sentiment Analyzer \n",
    "sia = SentimentIntensityAnalyzer()"
   ]
  },
  {
   "cell_type": "code",
   "execution_count": 294,
   "id": "5c8d39b3",
   "metadata": {},
   "outputs": [
    {
     "data": {
      "text/plain": [
       "{'neg': 0.076, 'neu': 0.783, 'pos': 0.141, 'compound': 0.9982}"
      ]
     },
     "execution_count": 294,
     "metadata": {},
     "output_type": "execute_result"
    }
   ],
   "source": [
    "#testing \n",
    "sentiment=sia.polarity_scores(word)\n",
    "sentiment"
   ]
  },
  {
   "cell_type": "code",
   "execution_count": 295,
   "id": "a6d40dcc",
   "metadata": {},
   "outputs": [],
   "source": [
    "#getting a sentiment score for each headline\n",
    "results = []\n",
    "\n",
    "for line in stock_headline:\n",
    "    pol_score = sia.polarity_scores(line)\n",
    "    pol_score['headline'] = line\n",
    "    results.append(pol_score)"
   ]
  },
  {
   "cell_type": "code",
   "execution_count": null,
   "id": "5803ad29",
   "metadata": {},
   "outputs": [],
   "source": []
  },
  {
   "cell_type": "code",
   "execution_count": 296,
   "id": "d0aa006b",
   "metadata": {},
   "outputs": [
    {
     "data": {
      "text/html": [
       "<div>\n",
       "<style scoped>\n",
       "    .dataframe tbody tr th:only-of-type {\n",
       "        vertical-align: middle;\n",
       "    }\n",
       "\n",
       "    .dataframe tbody tr th {\n",
       "        vertical-align: top;\n",
       "    }\n",
       "\n",
       "    .dataframe thead th {\n",
       "        text-align: right;\n",
       "    }\n",
       "</style>\n",
       "<table border=\"1\" class=\"dataframe\">\n",
       "  <thead>\n",
       "    <tr style=\"text-align: right;\">\n",
       "      <th></th>\n",
       "      <th>neg</th>\n",
       "      <th>neu</th>\n",
       "      <th>pos</th>\n",
       "      <th>compound</th>\n",
       "      <th>headline</th>\n",
       "    </tr>\n",
       "  </thead>\n",
       "  <tbody>\n",
       "    <tr>\n",
       "      <th>0</th>\n",
       "      <td>0.0</td>\n",
       "      <td>1.000</td>\n",
       "      <td>0.000</td>\n",
       "      <td>0.000</td>\n",
       "      <td>Teachers Retirement System of The State of Ken...</td>\n",
       "    </tr>\n",
       "    <tr>\n",
       "      <th>1</th>\n",
       "      <td>0.0</td>\n",
       "      <td>1.000</td>\n",
       "      <td>0.000</td>\n",
       "      <td>0.000</td>\n",
       "      <td>AWM Capital LLC Has $815,000 Stake in Alphabet...</td>\n",
       "    </tr>\n",
       "    <tr>\n",
       "      <th>2</th>\n",
       "      <td>0.0</td>\n",
       "      <td>0.804</td>\n",
       "      <td>0.196</td>\n",
       "      <td>0.296</td>\n",
       "      <td>Ambassador Advisors LLC Purchases 3,792 Shares...</td>\n",
       "    </tr>\n",
       "    <tr>\n",
       "      <th>3</th>\n",
       "      <td>0.0</td>\n",
       "      <td>0.833</td>\n",
       "      <td>0.167</td>\n",
       "      <td>0.296</td>\n",
       "      <td>Industrial Alliance Investment Management Inc....</td>\n",
       "    </tr>\n",
       "    <tr>\n",
       "      <th>4</th>\n",
       "      <td>0.0</td>\n",
       "      <td>1.000</td>\n",
       "      <td>0.000</td>\n",
       "      <td>0.000</td>\n",
       "      <td>Eagle Bay Advisors LLC Raises Stake in Alphabe...</td>\n",
       "    </tr>\n",
       "  </tbody>\n",
       "</table>\n",
       "</div>"
      ],
      "text/plain": [
       "   neg    neu    pos  compound  \\\n",
       "0  0.0  1.000  0.000     0.000   \n",
       "1  0.0  1.000  0.000     0.000   \n",
       "2  0.0  0.804  0.196     0.296   \n",
       "3  0.0  0.833  0.167     0.296   \n",
       "4  0.0  1.000  0.000     0.000   \n",
       "\n",
       "                                            headline  \n",
       "0  Teachers Retirement System of The State of Ken...  \n",
       "1  AWM Capital LLC Has $815,000 Stake in Alphabet...  \n",
       "2  Ambassador Advisors LLC Purchases 3,792 Shares...  \n",
       "3  Industrial Alliance Investment Management Inc....  \n",
       "4  Eagle Bay Advisors LLC Raises Stake in Alphabe...  "
      ]
     },
     "execution_count": 296,
     "metadata": {},
     "output_type": "execute_result"
    }
   ],
   "source": [
    "#converting it to a dataframe\n",
    "df = pd.DataFrame.from_records(results)\n",
    "df.head()"
   ]
  },
  {
   "cell_type": "code",
   "execution_count": 297,
   "id": "a9fde86e",
   "metadata": {},
   "outputs": [
    {
     "data": {
      "text/html": [
       "<div>\n",
       "<style scoped>\n",
       "    .dataframe tbody tr th:only-of-type {\n",
       "        vertical-align: middle;\n",
       "    }\n",
       "\n",
       "    .dataframe tbody tr th {\n",
       "        vertical-align: top;\n",
       "    }\n",
       "\n",
       "    .dataframe thead th {\n",
       "        text-align: right;\n",
       "    }\n",
       "</style>\n",
       "<table border=\"1\" class=\"dataframe\">\n",
       "  <thead>\n",
       "    <tr style=\"text-align: right;\">\n",
       "      <th></th>\n",
       "      <th>neg</th>\n",
       "      <th>neu</th>\n",
       "      <th>pos</th>\n",
       "      <th>compound</th>\n",
       "      <th>headline</th>\n",
       "      <th>label</th>\n",
       "    </tr>\n",
       "  </thead>\n",
       "  <tbody>\n",
       "    <tr>\n",
       "      <th>0</th>\n",
       "      <td>0.0</td>\n",
       "      <td>1.000</td>\n",
       "      <td>0.000</td>\n",
       "      <td>0.000</td>\n",
       "      <td>Teachers Retirement System of The State of Ken...</td>\n",
       "      <td>0</td>\n",
       "    </tr>\n",
       "    <tr>\n",
       "      <th>1</th>\n",
       "      <td>0.0</td>\n",
       "      <td>1.000</td>\n",
       "      <td>0.000</td>\n",
       "      <td>0.000</td>\n",
       "      <td>AWM Capital LLC Has $815,000 Stake in Alphabet...</td>\n",
       "      <td>0</td>\n",
       "    </tr>\n",
       "    <tr>\n",
       "      <th>2</th>\n",
       "      <td>0.0</td>\n",
       "      <td>0.804</td>\n",
       "      <td>0.196</td>\n",
       "      <td>0.296</td>\n",
       "      <td>Ambassador Advisors LLC Purchases 3,792 Shares...</td>\n",
       "      <td>1</td>\n",
       "    </tr>\n",
       "    <tr>\n",
       "      <th>3</th>\n",
       "      <td>0.0</td>\n",
       "      <td>0.833</td>\n",
       "      <td>0.167</td>\n",
       "      <td>0.296</td>\n",
       "      <td>Industrial Alliance Investment Management Inc....</td>\n",
       "      <td>1</td>\n",
       "    </tr>\n",
       "    <tr>\n",
       "      <th>4</th>\n",
       "      <td>0.0</td>\n",
       "      <td>1.000</td>\n",
       "      <td>0.000</td>\n",
       "      <td>0.000</td>\n",
       "      <td>Eagle Bay Advisors LLC Raises Stake in Alphabe...</td>\n",
       "      <td>0</td>\n",
       "    </tr>\n",
       "  </tbody>\n",
       "</table>\n",
       "</div>"
      ],
      "text/plain": [
       "   neg    neu    pos  compound  \\\n",
       "0  0.0  1.000  0.000     0.000   \n",
       "1  0.0  1.000  0.000     0.000   \n",
       "2  0.0  0.804  0.196     0.296   \n",
       "3  0.0  0.833  0.167     0.296   \n",
       "4  0.0  1.000  0.000     0.000   \n",
       "\n",
       "                                            headline  label  \n",
       "0  Teachers Retirement System of The State of Ken...      0  \n",
       "1  AWM Capital LLC Has $815,000 Stake in Alphabet...      0  \n",
       "2  Ambassador Advisors LLC Purchases 3,792 Shares...      1  \n",
       "3  Industrial Alliance Investment Management Inc....      1  \n",
       "4  Eagle Bay Advisors LLC Raises Stake in Alphabe...      0  "
      ]
     },
     "execution_count": 297,
     "metadata": {},
     "output_type": "execute_result"
    }
   ],
   "source": [
    "#labeling headlines as positive or negative based on compound score.\n",
    "df['label'] = 0\n",
    "df.loc[df['compound'] > 0.2, 'label'] = 1\n",
    "df.loc[df['compound'] < -0.2, 'label'] = -1\n",
    "df.head()"
   ]
  },
  {
   "cell_type": "code",
   "execution_count": 299,
   "id": "0354d07c",
   "metadata": {},
   "outputs": [
    {
     "name": "stdout",
     "output_type": "stream",
     "text": [
      "Positive headlines:\n",
      "\n",
      "['Ambassador Advisors LLC Purchases 3,792 Shares of Alphabet Inc. (NASDAQ:GOOG)',\n",
      " 'Industrial Alliance Investment Management Inc. Buys 267,185 Shares of Alphabet Inc. (NASDAQ:GOOG)',\n",
      " 'Spotlight Asset Group Inc. Buys Shares of 5,460 Alphabet Inc. (NASDAQ:GOOG)',\n",
      " 'National Pension Service Boosts Stock Holdings in Alphabet Inc. (NASDAQ:GOOG)',\n",
      " 'Gould Capital LLC Purchases 301 Shares of Alphabet Inc. (NASDAQ:GOOG)']\n"
     ]
    }
   ],
   "source": [
    "#Displaying the positive headlines\n",
    "print(\"Positive headlines:\\n\")\n",
    "pprint(list(df[df['label'] == 1].headline)[:5], width=200)\n",
    "\n"
   ]
  },
  {
   "cell_type": "code",
   "execution_count": 301,
   "id": "588b0596",
   "metadata": {},
   "outputs": [
    {
     "name": "stdout",
     "output_type": "stream",
     "text": [
      "\n",
      "Negative headlines:\n",
      "\n",
      "[]\n"
     ]
    }
   ],
   "source": [
    "#Displaying the negative headlines\n",
    "print(\"\\nNegative headlines:\\n\")\n",
    "pprint(list(df[df['label'] == -1].headline)[:5], width=200)"
   ]
  },
  {
   "cell_type": "code",
   "execution_count": 302,
   "id": "4becfe7d",
   "metadata": {},
   "outputs": [
    {
     "data": {
      "text/html": [
       "<div>\n",
       "<style scoped>\n",
       "    .dataframe tbody tr th:only-of-type {\n",
       "        vertical-align: middle;\n",
       "    }\n",
       "\n",
       "    .dataframe tbody tr th {\n",
       "        vertical-align: top;\n",
       "    }\n",
       "\n",
       "    .dataframe thead th {\n",
       "        text-align: right;\n",
       "    }\n",
       "</style>\n",
       "<table border=\"1\" class=\"dataframe\">\n",
       "  <thead>\n",
       "    <tr style=\"text-align: right;\">\n",
       "      <th></th>\n",
       "      <th>neg</th>\n",
       "      <th>neu</th>\n",
       "      <th>pos</th>\n",
       "      <th>compound</th>\n",
       "      <th>headline</th>\n",
       "      <th>label</th>\n",
       "    </tr>\n",
       "  </thead>\n",
       "  <tbody>\n",
       "    <tr>\n",
       "      <th>0</th>\n",
       "      <td>0.0</td>\n",
       "      <td>1.000</td>\n",
       "      <td>0.000</td>\n",
       "      <td>0.0000</td>\n",
       "      <td>Teachers Retirement System of The State of Ken...</td>\n",
       "      <td>0</td>\n",
       "    </tr>\n",
       "    <tr>\n",
       "      <th>1</th>\n",
       "      <td>0.0</td>\n",
       "      <td>1.000</td>\n",
       "      <td>0.000</td>\n",
       "      <td>0.0000</td>\n",
       "      <td>AWM Capital LLC Has $815,000 Stake in Alphabet...</td>\n",
       "      <td>0</td>\n",
       "    </tr>\n",
       "    <tr>\n",
       "      <th>2</th>\n",
       "      <td>0.0</td>\n",
       "      <td>0.804</td>\n",
       "      <td>0.196</td>\n",
       "      <td>0.2960</td>\n",
       "      <td>Ambassador Advisors LLC Purchases 3,792 Shares...</td>\n",
       "      <td>1</td>\n",
       "    </tr>\n",
       "    <tr>\n",
       "      <th>3</th>\n",
       "      <td>0.0</td>\n",
       "      <td>0.833</td>\n",
       "      <td>0.167</td>\n",
       "      <td>0.2960</td>\n",
       "      <td>Industrial Alliance Investment Management Inc....</td>\n",
       "      <td>1</td>\n",
       "    </tr>\n",
       "    <tr>\n",
       "      <th>4</th>\n",
       "      <td>0.0</td>\n",
       "      <td>1.000</td>\n",
       "      <td>0.000</td>\n",
       "      <td>0.0000</td>\n",
       "      <td>Eagle Bay Advisors LLC Raises Stake in Alphabe...</td>\n",
       "      <td>0</td>\n",
       "    </tr>\n",
       "    <tr>\n",
       "      <th>5</th>\n",
       "      <td>0.0</td>\n",
       "      <td>1.000</td>\n",
       "      <td>0.000</td>\n",
       "      <td>0.0000</td>\n",
       "      <td>Legend Financial Advisors Inc. Makes New Inves...</td>\n",
       "      <td>0</td>\n",
       "    </tr>\n",
       "    <tr>\n",
       "      <th>6</th>\n",
       "      <td>0.0</td>\n",
       "      <td>0.657</td>\n",
       "      <td>0.343</td>\n",
       "      <td>0.5719</td>\n",
       "      <td>Spotlight Asset Group Inc. Buys Shares of 5,46...</td>\n",
       "      <td>1</td>\n",
       "    </tr>\n",
       "    <tr>\n",
       "      <th>7</th>\n",
       "      <td>0.0</td>\n",
       "      <td>0.796</td>\n",
       "      <td>0.204</td>\n",
       "      <td>0.3182</td>\n",
       "      <td>National Pension Service Boosts Stock Holdings...</td>\n",
       "      <td>1</td>\n",
       "    </tr>\n",
       "    <tr>\n",
       "      <th>8</th>\n",
       "      <td>0.0</td>\n",
       "      <td>1.000</td>\n",
       "      <td>0.000</td>\n",
       "      <td>0.0000</td>\n",
       "      <td>WealthPlan Investment Management LLC Acquires ...</td>\n",
       "      <td>0</td>\n",
       "    </tr>\n",
       "    <tr>\n",
       "      <th>9</th>\n",
       "      <td>0.0</td>\n",
       "      <td>1.000</td>\n",
       "      <td>0.000</td>\n",
       "      <td>0.0000</td>\n",
       "      <td>Continental Investors Services Inc. Makes New ...</td>\n",
       "      <td>0</td>\n",
       "    </tr>\n",
       "    <tr>\n",
       "      <th>10</th>\n",
       "      <td>0.0</td>\n",
       "      <td>1.000</td>\n",
       "      <td>0.000</td>\n",
       "      <td>0.0000</td>\n",
       "      <td>Power Corp of Canada Grows Stake in Alphabet I...</td>\n",
       "      <td>0</td>\n",
       "    </tr>\n",
       "    <tr>\n",
       "      <th>11</th>\n",
       "      <td>0.0</td>\n",
       "      <td>0.804</td>\n",
       "      <td>0.196</td>\n",
       "      <td>0.2960</td>\n",
       "      <td>Gould Capital LLC Purchases 301 Shares of Alph...</td>\n",
       "      <td>1</td>\n",
       "    </tr>\n",
       "    <tr>\n",
       "      <th>12</th>\n",
       "      <td>0.0</td>\n",
       "      <td>0.597</td>\n",
       "      <td>0.403</td>\n",
       "      <td>0.6597</td>\n",
       "      <td>TPB Wealth Advisors Purchases 2,023 Shares of ...</td>\n",
       "      <td>1</td>\n",
       "    </tr>\n",
       "    <tr>\n",
       "      <th>13</th>\n",
       "      <td>0.0</td>\n",
       "      <td>0.625</td>\n",
       "      <td>0.375</td>\n",
       "      <td>0.6597</td>\n",
       "      <td>EP Wealth Advisors LLC Buys 138,783 Shares of ...</td>\n",
       "      <td>1</td>\n",
       "    </tr>\n",
       "    <tr>\n",
       "      <th>14</th>\n",
       "      <td>0.0</td>\n",
       "      <td>0.840</td>\n",
       "      <td>0.160</td>\n",
       "      <td>0.2716</td>\n",
       "      <td>The Batman Family is Finally Repairing one of ...</td>\n",
       "      <td>1</td>\n",
       "    </tr>\n",
       "    <tr>\n",
       "      <th>15</th>\n",
       "      <td>0.0</td>\n",
       "      <td>0.861</td>\n",
       "      <td>0.139</td>\n",
       "      <td>0.2732</td>\n",
       "      <td>A Surprising Member of the Batman Family Just ...</td>\n",
       "      <td>1</td>\n",
       "    </tr>\n",
       "    <tr>\n",
       "      <th>16</th>\n",
       "      <td>0.0</td>\n",
       "      <td>0.820</td>\n",
       "      <td>0.180</td>\n",
       "      <td>0.2960</td>\n",
       "      <td>Insider Selling: Alphabet Inc. (NASDAQ:GOOG) D...</td>\n",
       "      <td>1</td>\n",
       "    </tr>\n",
       "    <tr>\n",
       "      <th>17</th>\n",
       "      <td>0.0</td>\n",
       "      <td>1.000</td>\n",
       "      <td>0.000</td>\n",
       "      <td>0.0000</td>\n",
       "      <td>Alphabet Inc. (NASDAQ:GOOG) Stock Position Lif...</td>\n",
       "      <td>0</td>\n",
       "    </tr>\n",
       "    <tr>\n",
       "      <th>18</th>\n",
       "      <td>0.0</td>\n",
       "      <td>0.708</td>\n",
       "      <td>0.292</td>\n",
       "      <td>0.5106</td>\n",
       "      <td>American Trust Grows Stock Position in Alphabe...</td>\n",
       "      <td>1</td>\n",
       "    </tr>\n",
       "    <tr>\n",
       "      <th>19</th>\n",
       "      <td>0.0</td>\n",
       "      <td>1.000</td>\n",
       "      <td>0.000</td>\n",
       "      <td>0.0000</td>\n",
       "      <td>Alphabet Inc. (NASDAQ:GOOG) Holdings Raised by...</td>\n",
       "      <td>0</td>\n",
       "    </tr>\n",
       "    <tr>\n",
       "      <th>20</th>\n",
       "      <td>0.0</td>\n",
       "      <td>0.597</td>\n",
       "      <td>0.403</td>\n",
       "      <td>0.6597</td>\n",
       "      <td>Alphabet Inc. (NASDAQ:GOOG) Shares Bought by H...</td>\n",
       "      <td>1</td>\n",
       "    </tr>\n",
       "  </tbody>\n",
       "</table>\n",
       "</div>"
      ],
      "text/plain": [
       "    neg    neu    pos  compound  \\\n",
       "0   0.0  1.000  0.000    0.0000   \n",
       "1   0.0  1.000  0.000    0.0000   \n",
       "2   0.0  0.804  0.196    0.2960   \n",
       "3   0.0  0.833  0.167    0.2960   \n",
       "4   0.0  1.000  0.000    0.0000   \n",
       "5   0.0  1.000  0.000    0.0000   \n",
       "6   0.0  0.657  0.343    0.5719   \n",
       "7   0.0  0.796  0.204    0.3182   \n",
       "8   0.0  1.000  0.000    0.0000   \n",
       "9   0.0  1.000  0.000    0.0000   \n",
       "10  0.0  1.000  0.000    0.0000   \n",
       "11  0.0  0.804  0.196    0.2960   \n",
       "12  0.0  0.597  0.403    0.6597   \n",
       "13  0.0  0.625  0.375    0.6597   \n",
       "14  0.0  0.840  0.160    0.2716   \n",
       "15  0.0  0.861  0.139    0.2732   \n",
       "16  0.0  0.820  0.180    0.2960   \n",
       "17  0.0  1.000  0.000    0.0000   \n",
       "18  0.0  0.708  0.292    0.5106   \n",
       "19  0.0  1.000  0.000    0.0000   \n",
       "20  0.0  0.597  0.403    0.6597   \n",
       "\n",
       "                                             headline  label  \n",
       "0   Teachers Retirement System of The State of Ken...      0  \n",
       "1   AWM Capital LLC Has $815,000 Stake in Alphabet...      0  \n",
       "2   Ambassador Advisors LLC Purchases 3,792 Shares...      1  \n",
       "3   Industrial Alliance Investment Management Inc....      1  \n",
       "4   Eagle Bay Advisors LLC Raises Stake in Alphabe...      0  \n",
       "5   Legend Financial Advisors Inc. Makes New Inves...      0  \n",
       "6   Spotlight Asset Group Inc. Buys Shares of 5,46...      1  \n",
       "7   National Pension Service Boosts Stock Holdings...      1  \n",
       "8   WealthPlan Investment Management LLC Acquires ...      0  \n",
       "9   Continental Investors Services Inc. Makes New ...      0  \n",
       "10  Power Corp of Canada Grows Stake in Alphabet I...      0  \n",
       "11  Gould Capital LLC Purchases 301 Shares of Alph...      1  \n",
       "12  TPB Wealth Advisors Purchases 2,023 Shares of ...      1  \n",
       "13  EP Wealth Advisors LLC Buys 138,783 Shares of ...      1  \n",
       "14  The Batman Family is Finally Repairing one of ...      1  \n",
       "15  A Surprising Member of the Batman Family Just ...      1  \n",
       "16  Insider Selling: Alphabet Inc. (NASDAQ:GOOG) D...      1  \n",
       "17  Alphabet Inc. (NASDAQ:GOOG) Stock Position Lif...      0  \n",
       "18  American Trust Grows Stock Position in Alphabe...      1  \n",
       "19  Alphabet Inc. (NASDAQ:GOOG) Holdings Raised by...      0  \n",
       "20  Alphabet Inc. (NASDAQ:GOOG) Shares Bought by H...      1  "
      ]
     },
     "execution_count": 302,
     "metadata": {},
     "output_type": "execute_result"
    }
   ],
   "source": [
    "df"
   ]
  },
  {
   "cell_type": "code",
   "execution_count": null,
   "id": "b03a6bbd",
   "metadata": {},
   "outputs": [],
   "source": []
  }
 ],
 "metadata": {
  "kernelspec": {
   "display_name": "Python 3 (ipykernel)",
   "language": "python",
   "name": "python3"
  },
  "language_info": {
   "codemirror_mode": {
    "name": "ipython",
    "version": 3
   },
   "file_extension": ".py",
   "mimetype": "text/x-python",
   "name": "python",
   "nbconvert_exporter": "python",
   "pygments_lexer": "ipython3",
   "version": "3.8.13"
  }
 },
 "nbformat": 4,
 "nbformat_minor": 5
}
